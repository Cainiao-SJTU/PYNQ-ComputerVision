{
 "cells": [
  {
   "cell_type": "markdown",
   "metadata": {},
   "source": [
    "# OpenCV Overlay: Filter2D and Dilate Example"
   ]
  },
  {
   "cell_type": "markdown",
   "metadata": {},
   "source": [
    "This notebook illustrates the kinds of things you can do with accelerated openCV cores built as PYNQ overlay. The overlay consists of a 2D filter and a dilate function and this example notebook does the following.\n",
    "1. Sets up HDMI drivers\n",
    "2. Sets up widget for controlling different filter kernels\n",
    "3. Run software only filter2D + dilate pipeline on HDMI input and output results on HDMI output\n",
    "4. Run hardware accelerated dilate function\n",
    "5. Run hardware accelerated filter2D + dilate function\n",
    "\n",
    "NOTE: Rough FPS values are computed for each stage"
   ]
  },
  {
   "cell_type": "markdown",
   "metadata": {},
   "source": [
    "Program overlay load python libraries for memory manager and accelerator drivers.\n",
    "\n",
    "NOTE: All overlay and python libraries should be loaded prior to assigning the HDMI input/outputs. This is necessary right now to ensure correct functionality but will be enhanced in future releases. For now, please copy this block as is when using it in your own designs."
   ]
  },
  {
   "cell_type": "code",
   "execution_count": null,
   "metadata": {},
   "outputs": [],
   "source": [
    "from pynq.lib.video import *\n",
    "from pynq.overlays.bare_hdmi import BareHDMIOverlay\n",
    "base = BareHDMIOverlay(\"/home/xilinx/pynq/overlays/computer_vision/xv2Filter2DDilate.bit\")\n",
    "from pynq import Xlnk\n",
    "mem_manager = Xlnk()\n",
    "import pynq.overlays.xv2Filter2DDilate as xv2\n",
    "\n",
    "hdmi_in = base.video.hdmi_in\n",
    "hdmi_out = base.video.hdmi_out"
   ]
  },
  {
   "cell_type": "markdown",
   "metadata": {},
   "source": [
    "Setup and configure HDMI drivers (~10 seconds to initialize HDMI input/output)"
   ]
  },
  {
   "cell_type": "code",
   "execution_count": null,
   "metadata": {},
   "outputs": [],
   "source": [
    "hdmi_in.configure(PIXEL_GRAY)\n",
    "hdmi_out.configure(hdmi_in.mode)\n",
    "\n",
    "hdmi_in.start()\n",
    "hdmi_out.start()"
   ]
  },
  {
   "cell_type": "markdown",
   "metadata": {},
   "source": [
    "Setup up HDMI input/output parameters which is referenced in later function calls"
   ]
  },
  {
   "cell_type": "code",
   "execution_count": null,
   "metadata": {},
   "outputs": [],
   "source": [
    "mymode = hdmi_in.mode\n",
    "print(\"My mode: \"+str(mymode))\n",
    "\n",
    "height = hdmi_in.mode.height\n",
    "width = hdmi_in.mode.width\n",
    "bpp = hdmi_in.mode.bits_per_pixel\n"
   ]
  },
  {
   "cell_type": "markdown",
   "metadata": {},
   "source": [
    "Setup control widgets\n",
    "\n",
    "Here, we define some kernel configurations that will be used to change the functionality of the 2D filter on the fly. A pulldown menu will appear below this cell to be used to change the filter2D kernel used subsequent cells."
   ]
  },
  {
   "cell_type": "code",
   "execution_count": null,
   "metadata": {},
   "outputs": [],
   "source": [
    "from ipywidgets import interact, interactive, fixed, interact_manual, IntSlider, FloatSlider\n",
    "import ipywidgets as widgets\n",
    "\n",
    "kernelSize = 3\n",
    "\n",
    "if kernelSize == 3:\n",
    "    kernel_g = np.array([[0.0, 1.0, 0],[1.0, -4, 1.0],[0, 1.0, 0.0]],np.float32) #laplacian filter, high-pass  \n",
    "else:\n",
    "    kernel_g = np.array([[0,0,0,0,0],[0,0,1,0,0],[0,1,-4,1,0],[0,0,1,0,0],[0,0,0,0,0]],np.float32) #laplacian filter, high-pass  \n",
    "\n",
    "def setKernelAndFilter3x3(kernelName):\n",
    "    global kernel_g\n",
    "\n",
    "    kernel_g = {\n",
    "        'average blur':  np.ones((3,3),np.float32)/9.0,\n",
    "        'gaussian blur': np.array([[0.0625,0.125,0.0625],[0.125,0.25,0.125],[0.0625,0.125,0.0625]]),\n",
    "        'gaussian high-pass': np.array([[-0.0625,-0.125,-0.0625],[-0.125,0.75,-0.125],[-0.0625,-0.125,-0.0625]])*2,\n",
    "        'laplacian high-pass':  np.array([[0.0, 1.0, 0],[1.0, -4, 1.0],[0, 1.0, 0.0]],np.float32),\n",
    "        'Sobel Ver': np.array([[1.0,0.0,-1.0],[2.0,0.0,-2.0],[1.0,0.0,-1.0]],np.float32),\n",
    "        'Sobel Hor': np.array([[1.0,2.0,1.0],[0.0,0.0,0.0],[-1.0,-2.0,-1.0]],np.float32)\n",
    "    }.get(kernelName, np.ones((3,3),np.float32)/9.0)\n",
    "    #print(\"kernel: \"+str(kernelName))\n",
    "\n",
    "def setKernelAndFilter5x5(kernelName):\n",
    "    global kernel_g\n",
    "\n",
    "    kernel_g = {\n",
    "        'average blur':  np.ones((5,5),np.float32)/25.0,\n",
    "        'gaussian blur': np.array([[0,0,0,0,0],[0,0.0625,0.125,0.0625,0],[0,0.125,0.25,0.125,0],[0,0.0625,0.125,0.0625,0],[0,0,0,0,0]]),\n",
    "        'gaussian high-pass': np.array([[0,0,0,0,0],[0,-0.0625,-0.125,-0.0625,0],[0,-0.125,0.75,-0.125,0],[0,-0.0625,-0.125,-0.0625,0],[0,0,0,0,0]])*2,\n",
    "        'laplacian high-pass':  np.array([[0,0,0,0,0],[0,0,1,0,0],[0,1,-4,1,0],[0,0,1,0,0],[0,0,0,0,0]],np.float32),\n",
    "        'Sobel Ver': np.array([[0,0,0,0,0],[0,1,0,-1,0],[0,2,0,-2,0],[0,1,0,-1,0],[0,0,0,0,0]],np.float32),\n",
    "        'Sobel Hor': np.array([[0,0,0,0,0],[0,1,2,1,0],[0,0,0,0,0],[0,-1,-2,-1,0],[0,0,0,0,0]],np.float32)\n",
    "    }.get(kernelName, np.ones((5,5),np.float32)/25.0)\n",
    "    #print(\"kernel: \"+str(kernelName))\n",
    "\n",
    "if kernelSize == 3: \n",
    "    interact(setKernelAndFilter3x3, kernelName=['average blur','gaussian blur','gaussian high-pass','laplacian high-pass','Sobel Hor','Sobel Ver']);\n",
    "else:\n",
    "    interact(setKernelAndFilter5x5, kernelName=['average blur','gaussian blur','gaussian high-pass','laplacian high-pass','Sobel Hor','Sobel Ver']);\n"
   ]
  },
  {
   "cell_type": "markdown",
   "metadata": {},
   "source": [
    "Run SW Filter2D + Dilate (~30 seconds)\n",
    "\n",
    "NOTE: In order to allow kernel redefintion onthe fly, subsequent function call are run as threads. This means you will not know if the cell is finished based on the cell status on the left. Be sure to wait until FPS information is reported before running other cells. Also note that if you use the widget to change the kernel, the FPS info will show up underneath the widget cell rather than the function block cell."
   ]
  },
  {
   "cell_type": "code",
   "execution_count": null,
   "metadata": {},
   "outputs": [],
   "source": [
    "import numpy as np\n",
    "import cv2\n",
    "\n",
    "def loop_sw2_app():\n",
    "    global kernel_g\n",
    "\n",
    "    kernelD = np.ones((3,3),np.uint8)\n",
    "    buf =np.ones((height,width),np.uint8)\n",
    "\n",
    "    numframes = 20\n",
    "\n",
    "    start = time.time()\n",
    "    for _ in range(numframes):\n",
    "        inframe = hdmi_in.readframe()\n",
    "        outframe = hdmi_out.newframe()\n",
    "        cv2.filter2D(inframe, -1, kernel_g, dst=buf)\n",
    "        cv2.dilate(buf, kernelD, dst=outframe, iterations=1)\n",
    "        inframe.freebuffer()\n",
    "        hdmi_out.writeframe(outframe)\n",
    "    end = time.time()\n",
    "    print(\"Frames per second:  \" + str(numframes / (end - start)))\n",
    "    \n",
    "from threading import Thread\n",
    "\n",
    "t = Thread(target=loop_sw2_app, )\n",
    "t.start()"
   ]
  },
  {
   "cell_type": "markdown",
   "metadata": {},
   "source": [
    "Run HW dilate only (~3 seconds)\n",
    "\n",
    "Based on a kernel frequency of 142 MHz, this block should run at ~60 fps. This is also true for the filter2D block as well."
   ]
  },
  {
   "cell_type": "code",
   "execution_count": null,
   "metadata": {},
   "outputs": [],
   "source": [
    "import numpy as np\n",
    "\n",
    "kernelVoid = np.zeros(0)\n",
    "\n",
    "numframes = 200\n",
    "\n",
    "start=time.time()\n",
    "for _ in range(numframes):\n",
    "    inframe = hdmi_in.readframe()\n",
    "    outframe = hdmi_out.newframe()\n",
    "    xv2.dilate(inframe, kernelVoid, dst=outframe, iterations=1, borderType=cv2.BORDER_CONSTANT)\n",
    "    inframe.freebuffer()\n",
    "    hdmi_out.writeframe(outframe)\n",
    "end=time.time()\n",
    "print(\"Frames per second:  \" + str(numframes / (end - start)))"
   ]
  },
  {
   "cell_type": "markdown",
   "metadata": {},
   "source": [
    "Run HW filter2D + dilate (~20 seconds)\n",
    "\n",
    "Running both blocks in series means the effective performance is approximately halved or ~30 fps."
   ]
  },
  {
   "cell_type": "code",
   "execution_count": null,
   "metadata": {},
   "outputs": [],
   "source": [
    "import numpy as np\n",
    "\n",
    "def loop_hw2_app():\n",
    "    global kernel_g\n",
    "    kernelVoid = np.zeros(0)\n",
    "    \n",
    "    buffer =  mem_manager.cma_alloc(length=width*height,data_type='unsigned char',cacheable=0)\n",
    "    xFbuf = np.reshape(np.frombuffer(mem_manager.cma_get_buffer(buffer, length=width*height),dtype=np.uint8),(height,width))\n",
    "    \n",
    "    numframes = 600\n",
    "\n",
    "    start=time.time()\n",
    "    for _ in range(numframes):\n",
    "        inframe = hdmi_in.readframe()\n",
    "        outframe = hdmi_out.newframe()\n",
    "        xv2.filter2D(inframe, -1, kernel_g, xFbuf, (-1,-1), 0.0, borderType=cv2.BORDER_CONSTANT)\n",
    "        xv2.dilate(xFbuf, kernelVoid, dst=outframe, borderType=cv2.BORDER_CONSTANT)\n",
    "        inframe.freebuffer()\n",
    "        hdmi_out.writeframe(outframe)\n",
    "    end=time.time()\n",
    "    print(\"Frames per second:  \" + str(numframes / (end - start)))\n",
    "\n",
    "from threading import Thread\n",
    "\n",
    "t = Thread(target=loop_hw2_app, )\n",
    "t.start()"
   ]
  },
  {
   "cell_type": "markdown",
   "metadata": {},
   "source": [
    "Clean up hdmi drivers\n",
    "\n",
    "NOTE: This is needed to reset the HDMI drivers in a clean state. If this is not run, subsequent executions of this notebook may show visual artifacts on the HDMI out (usually a shifted output image)"
   ]
  },
  {
   "cell_type": "code",
   "execution_count": null,
   "metadata": {},
   "outputs": [],
   "source": [
    "hdmi_out.close()\n",
    "hdmi_in.close()"
   ]
  }
 ],
 "metadata": {
  "kernelspec": {
   "display_name": "Python 3",
   "language": "python",
   "name": "python3"
  },
  "language_info": {
   "codemirror_mode": {
    "name": "ipython",
    "version": 3
   },
   "file_extension": ".py",
   "mimetype": "text/x-python",
   "name": "python",
   "nbconvert_exporter": "python",
   "pygments_lexer": "ipython3",
   "version": "3.6.0"
  }
 },
 "nbformat": 4,
 "nbformat_minor": 2
}

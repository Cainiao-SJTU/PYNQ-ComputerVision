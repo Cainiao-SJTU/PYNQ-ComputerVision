{
 "cells": [
  {
   "cell_type": "markdown",
   "metadata": {},
   "source": [
    "# OpenCV Overlay: Filter2D and Remap Example"
   ]
  },
  {
   "cell_type": "markdown",
   "metadata": {},
   "source": [
    "This notebook illustrates the kinds of things you can do with accelerated openCV cores built as PYNQ overlay. The overlay consists of a 2D filter and a remap function and this example notebook does the following.\n",
    "1. Sets up HDMI drivers\n",
    "2. Sets up widget for controlling the position, size, and zoom of the \"mangifying glass\"\n",
    "3. Run software only remap on HDMI input and output results on HDMI output\n",
    "4. Run hardware accelerated remap function\n",
    "5. Run hardware accelerated filter2D + remap function\n",
    "\n",
    "NOTE: Rough FPS values are computed for each stage"
   ]
  },
  {
   "cell_type": "markdown",
   "metadata": {},
   "source": [
    "Program overlay load python libraries for memory manager and accelerator drivers.\n",
    "\n",
    "NOTE: All overlay and python libraries should be loaded prior to assigning the HDMI input/outputs. This is necessary right now to ensure correct functionality but will be enhanced in future releases. For now, please copy this block as is when using it in your own designs."
   ]
  },
  {
   "cell_type": "code",
   "execution_count": null,
   "metadata": {},
   "outputs": [],
   "source": [
    "from pynq.lib.video import *\n",
    "from pynq.overlays.bare_hdmi import BareHDMIOverlay\n",
    "base = BareHDMIOverlay(\"/home/xilinx/pynq/overlays/computer_vision/xv2Filter2DRemap.bit\")\n",
    "from pynq import Xlnk\n",
    "mem_manager = Xlnk()\n",
    "import pynq.overlays.xv2Filter2DRemap as xv2\n",
    "\n",
    "hdmi_in = base.video.hdmi_in\n",
    "hdmi_out = base.video.hdmi_out"
   ]
  },
  {
   "cell_type": "markdown",
   "metadata": {},
   "source": [
    "Setup and configure HDMI drivers (~10 seconds to initialize HDMI input/output)"
   ]
  },
  {
   "cell_type": "code",
   "execution_count": null,
   "metadata": {},
   "outputs": [],
   "source": [
    "hdmi_in.configure(PIXEL_GRAY)\n",
    "hdmi_out.configure(hdmi_in.mode)\n",
    "\n",
    "hdmi_in.start()\n",
    "hdmi_out.start()"
   ]
  },
  {
   "cell_type": "markdown",
   "metadata": {},
   "source": [
    "Setup up HDMI input/output parameters as well as remap demo parameters which is referenced in later function calls"
   ]
  },
  {
   "cell_type": "code",
   "execution_count": null,
   "metadata": {},
   "outputs": [],
   "source": [
    "mymode = hdmi_in.mode\n",
    "print(\"My mode: \"+str(mymode))\n",
    "\n",
    "height = hdmi_in.mode.height\n",
    "width = hdmi_in.mode.width\n",
    "bpp = hdmi_in.mode.bits_per_pixel\n",
    "\n",
    "cx = 700\n",
    "cy = 500\n",
    "radius = 60\n",
    "zoom = 2"
   ]
  },
  {
   "cell_type": "markdown",
   "metadata": {},
   "source": [
    "Define helper functions\n",
    "\n",
    "This function computes the map matrices used in the remap function. This is not part of the accelerated function and is only called when the \"magnifying glass\" is moved or its parameters changed."
   ]
  },
  {
   "cell_type": "code",
   "execution_count": null,
   "metadata": {},
   "outputs": [],
   "source": [
    "import numpy as np\n",
    "import cv2\n",
    "\n",
    "def makeMapCircleZoom(width, height, cx, cy, radius, zoom):\n",
    "    mapY, mapX = np.indices((height,width),dtype=np.float32)\n",
    "    \n",
    "    for (j,i),x in np.ndenumerate(mapX[cy-radius:cy+radius,cx-radius:cx+radius]):\n",
    "        x = i - radius\n",
    "        y = j - radius\n",
    "        i += cx-radius\n",
    "        j += cy-radius\n",
    "        mapX[(j,i)] = (cx + x/zoom) if (np.sqrt(x*x+y*y)<radius) else i\n",
    "        mapY[(j,i)] = (cy + y/zoom) if (np.sqrt(x*x+y*y)<radius) else j\n",
    "\n",
    "    return(mapX,mapY)"
   ]
  },
  {
   "cell_type": "markdown",
   "metadata": {},
   "source": [
    "Setup control widgets\n",
    "\n",
    "This widget controls our \"magnfiying glass.\" This demo allows the uses to change the position (x,y), size and zoom of the magnfiying glass via slider controls."
   ]
  },
  {
   "cell_type": "code",
   "execution_count": null,
   "metadata": {},
   "outputs": [],
   "source": [
    "from ipywidgets import interact, interactive, fixed, interact_manual, IntSlider, FloatSlider\n",
    "import ipywidgets as widgets\n",
    "\n",
    "var_changed_g = 0\n",
    "cx_g = 700\n",
    "cy_g = 500\n",
    "radius_g = 100\n",
    "zoom_g = 1.4\n",
    "\n",
    "def makeMapCircleZoomAndUpdate(width, height, cx, cy, radius, zoom):\n",
    "    global var_changed_g\n",
    "    global cx_g\n",
    "    global cy_g\n",
    "    global radius_g\n",
    "    global zoom_g\n",
    "    #print(var_changed_g,cx,cy,radius,zoom)\n",
    "    if var_changed_g == 0:\n",
    "        cx_g = cx\n",
    "        cy_g = cy\n",
    "        radius_g = radius\n",
    "        zoom_g = zoom\n",
    "        var_changed_g = 1\n",
    "    #print(cx_g,cy_g,radius_g,zoom_g)\n",
    "    \n",
    "width_widget = width;\n",
    "height_widget = height;\n",
    "cx_widget = IntSlider(min=0,max=width-1, step=1, value=width/2,continuous_update=False)\n",
    "cy_widget = IntSlider(min=0,max=height-1, step=1, value=height/2,continuous_update=False)\n",
    "radius_widget = IntSlider(min=1,max=100,step=1,value=60,continuous_update=False)\n",
    "zoom_widget = FloatSlider(min=0.1,max=4.0,step=0.1,value=2.0,continuous_update=False)\n",
    "\n",
    "interact(makeMapCircleZoomAndUpdate, width=fixed(width_widget), height=fixed(height_widget), cx=cx_widget,cy=cy_widget,radius=radius_widget,zoom=zoom_widget)"
   ]
  },
  {
   "cell_type": "markdown",
   "metadata": {},
   "source": [
    "Run SW remap (~20 seconds)\n",
    "\n",
    "This runs the remap kernel which puts a \"magnifying glass\" circle over a section of the image. The circle is small and can have it's position, size and zoom modified using the sliders above. Doing so will call the makeMapCircleZoom function in python which takes a few seconds to recompute the new maps each time an adjustment is made on any slider. Not moving the slider will give a more accurate FPS measurement of the remap function on its own.\n",
    "\n",
    "NOTE: In order to allow kernel redefintion onthe fly, subsequent function call are run as threads. This means you will not know if the cell is finished based on the cell status on the left. Be sure to wait until FPS information is reported before running other cells. Also note that if you use the widget to change the kernel, the FPS info will show up underneath the widget cell rather than the function block cell."
   ]
  },
  {
   "cell_type": "code",
   "execution_count": null,
   "metadata": {},
   "outputs": [],
   "source": [
    "import numpy as np\n",
    "import cv2\n",
    "\n",
    "def loop_sw_app():\n",
    "    global var_changed_g\n",
    "\n",
    "    map1, map2 = makeMapCircleZoom(width,height,cx,cy,radius,zoom)\n",
    "\n",
    "    var_changed_g == 0\n",
    "    numframes = 20\n",
    "\n",
    "    start = time.time()\n",
    "    for _ in range(numframes):\n",
    "        inframe = hdmi_in.readframe()\n",
    "        outframe = hdmi_out.newframe()\n",
    "        if var_changed_g == 1:\n",
    "            map1, map2 = makeMapCircleZoom(width, height, cx_g, cy_g, radius_g, zoom_g)\n",
    "            var_changed_g = 0\n",
    "        cv2.remap(inframe, map1, map2, cv2.INTER_LINEAR, dst=outframe)\n",
    "        inframe.freebuffer()\n",
    "        hdmi_out.writeframe(outframe)\n",
    "    end = time.time()\n",
    "    print(\"Frames per second:  \" + str(numframes / (end - start)))\n",
    "\n",
    "from threading import Thread\n",
    "\n",
    "t = Thread(target=loop_sw_app, )\n",
    "t.start()"
   ]
  },
  {
   "cell_type": "markdown",
   "metadata": {},
   "source": [
    "Run HW remap (~12 seconds, with no parameter changes)\n",
    "\n",
    "Based on a kernel frequency of 100 MHz, this block should run at ~40 fps. This is also true for the filter2D block as well. Similar to the software version, moving the sliders will cause a makeMapCircleZoom function call which will affect the final FPS measurement as that computation is added into the total. Letting this cell run to completion on its own will provide a more accurate hardware remap performance."
   ]
  },
  {
   "cell_type": "code",
   "execution_count": null,
   "metadata": {},
   "outputs": [],
   "source": [
    "def loop_hw_app():\n",
    "    global var_changed_g\n",
    "\n",
    "    map1, map2 = makeMapCircleZoom(width,height,cx,cy,radius,zoom)\n",
    "\n",
    "    bufferMap1 =  mem_manager.cma_alloc(length=width*height,data_type='float',cacheable=0)\n",
    "    xFmap1 = np.reshape(np.frombuffer(mem_manager.cma_get_buffer(bufferMap1, length=width*height*4),dtype=np.float32),(height,width))\n",
    "    xFmap1[:] = map1[:]\n",
    "\n",
    "    bufferMap2 = mem_manager.cma_alloc(length=width*height,data_type='float',cacheable=0)\n",
    "    xFmap2 = np.reshape(np.frombuffer(mem_manager.cma_get_buffer(bufferMap2, length=width*height*4),dtype=np.float32),(height,width))\n",
    "    xFmap2[:] = map2[:]\n",
    "\n",
    "    var_changed_g == 0\n",
    "    numframes = 500\n",
    "\n",
    "    start=time.time()\n",
    "    for _ in range(numframes):\n",
    "        inframe = hdmi_in.readframe()\n",
    "        outframe = hdmi_out.newframe()\n",
    "        if var_changed_g == 1:\n",
    "            map1, map2 = makeMapCircleZoom(width, height, cx_g, cy_g, radius_g, zoom_g)\n",
    "            xFmap1[:] = map1[:]\n",
    "            xFmap2[:] = map2[:]\n",
    "            var_changed_g = 0\n",
    "        xv2.remap(inframe, xFmap1, xFmap2, cv2.INTER_LINEAR, dst=outframe)\n",
    "        inframe.freebuffer()\n",
    "        hdmi_out.writeframe(outframe)\n",
    "    end=time.time()\n",
    "\n",
    "    mem_manager.cma_free(bufferMap1)\n",
    "    mem_manager.cma_free(bufferMap2)\n",
    "\n",
    "    print(\"Frames per second:  \" + str(numframes / (end - start)))\n",
    "\n",
    "from threading import Thread\n",
    "\n",
    "t = Thread(target=loop_hw_app, )\n",
    "t.start()"
   ]
  },
  {
   "cell_type": "markdown",
   "metadata": {},
   "source": [
    "Run HW filter2D + remap (~20 seconds, with no parameter changes)\n",
    "\n",
    "Running both blocks in series means the effective performance is approximately halved or ~20 fps."
   ]
  },
  {
   "cell_type": "code",
   "execution_count": null,
   "metadata": {},
   "outputs": [],
   "source": [
    "def loop_hw2_app():\n",
    "    global var_changed_g\n",
    "\n",
    "    buf =np.ones((height,width),np.uint8)\n",
    "    kernel = np.array([[0.0, 1.0, 0],[1.0,-4,1.0],[0,1.0,0.0]],np.float32)\n",
    "    map1, map2 = makeMapCircleZoom(width,height,cx,cy,radius,zoom)\n",
    "\n",
    "    buffer =  mem_manager.cma_alloc(length=width*height,data_type='unsigned char',cacheable=0)\n",
    "    xFbuf = np.reshape(np.frombuffer(mem_manager.cma_get_buffer(buffer, length=width*height),dtype=np.uint8),(height,width))   \n",
    "\n",
    "    bufferMap1 =  mem_manager.cma_alloc(length=width*height,data_type='float',cacheable=0)\n",
    "    xFmap1 = np.reshape(np.frombuffer(mem_manager.cma_get_buffer(bufferMap1, length=width*height*4),dtype=np.float32),(height,width))\n",
    "    xFmap1[:] = map1[:]\n",
    "\n",
    "    bufferMap2 = mem_manager.cma_alloc(length=width*height,data_type='float',cacheable=0)\n",
    "    xFmap2 = np.reshape(np.frombuffer(mem_manager.cma_get_buffer(bufferMap2, length=width*height*4),dtype=np.float32),(height,width))\n",
    "    xFmap2[:] = map2[:]\n",
    "   \n",
    "    var_changed_g == 0\n",
    "    numframes = 500\n",
    "\n",
    "    start=time.time()\n",
    "    for _ in range(numframes):\n",
    "        inframe = hdmi_in.readframe()\n",
    "        outframe = hdmi_out.newframe()\n",
    "        if var_changed_g == 1:\n",
    "            map1, map2 = makeMapCircleZoom(width, height, cx_g, cy_g, radius_g, zoom_g)\n",
    "            xFmap1[:] = map1[:]\n",
    "            xFmap2[:] = map2[:]\n",
    "            var_changed_g = 0\n",
    "        xv2.filter2D(inframe, -1, kernel, xFbuf, (-1,-1), 0.0, borderType=cv2.BORDER_CONSTANT)\n",
    "        xv2.remap(xFbuf, xFmap1, xFmap2, cv2.INTER_LINEAR, dst=outframe)\n",
    "        inframe.freebuffer()\n",
    "        hdmi_out.writeframe(outframe)\n",
    "    end=time.time()\n",
    "\n",
    "    mem_manager.cma_free(bufferMap1)\n",
    "    mem_manager.cma_free(bufferMap2)\n",
    "    mem_manager.cma_free(buffer)\n",
    "\n",
    "    print(\"Frames per second:  \" + str(numframes / (end - start)))\n",
    "\n",
    "from threading import Thread\n",
    "\n",
    "t = Thread(target=loop_hw2_app, )\n",
    "t.start()"
   ]
  },
  {
   "cell_type": "markdown",
   "metadata": {},
   "source": [
    "Clean up hdmi drivers"
   ]
  },
  {
   "cell_type": "code",
   "execution_count": null,
   "metadata": {},
   "outputs": [],
   "source": [
    "hdmi_out.close()\n",
    "hdmi_in.close()"
   ]
  }
 ],
 "metadata": {
  "kernelspec": {
   "display_name": "Python 3",
   "language": "python",
   "name": "python3"
  },
  "language_info": {
   "codemirror_mode": {
    "name": "ipython",
    "version": 3
   },
   "file_extension": ".py",
   "mimetype": "text/x-python",
   "name": "python",
   "nbconvert_exporter": "python",
   "pygments_lexer": "ipython3",
   "version": "3.6.0"
  }
 },
 "nbformat": 4,
 "nbformat_minor": 2
}
